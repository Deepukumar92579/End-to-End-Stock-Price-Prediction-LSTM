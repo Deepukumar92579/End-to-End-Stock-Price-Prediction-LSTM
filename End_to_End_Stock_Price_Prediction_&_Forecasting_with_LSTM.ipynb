{
  "nbformat": 4,
  "nbformat_minor": 0,
  "metadata": {
    "colab": {
      "provenance": []
    },
    "kernelspec": {
      "name": "python3",
      "display_name": "Python 3"
    },
    "language_info": {
      "name": "python"
    }
  },
  "cells": [
    {
      "cell_type": "code",
      "execution_count": 1,
      "metadata": {
        "colab": {
          "base_uri": "https://localhost:8080/"
        },
        "id": "Rs6JPWmcL_uQ",
        "outputId": "95ef1ba6-b3f3-4394-960f-8fa552455af4"
      },
      "outputs": [
        {
          "output_type": "stream",
          "name": "stdout",
          "text": [
            "Requirement already satisfied: yfinance in /usr/local/lib/python3.11/dist-packages (0.2.65)\n",
            "Requirement already satisfied: pandas in /usr/local/lib/python3.11/dist-packages (2.2.2)\n",
            "Requirement already satisfied: numpy in /usr/local/lib/python3.11/dist-packages (1.26.4)\n",
            "Requirement already satisfied: scikit-learn in /usr/local/lib/python3.11/dist-packages (1.6.1)\n",
            "Requirement already satisfied: tensorflow in /usr/local/lib/python3.11/dist-packages (2.18.0)\n",
            "Requirement already satisfied: matplotlib in /usr/local/lib/python3.11/dist-packages (3.10.0)\n",
            "Requirement already satisfied: requests>=2.31 in /usr/local/lib/python3.11/dist-packages (from yfinance) (2.32.3)\n",
            "Requirement already satisfied: multitasking>=0.0.7 in /usr/local/lib/python3.11/dist-packages (from yfinance) (0.0.12)\n",
            "Requirement already satisfied: platformdirs>=2.0.0 in /usr/local/lib/python3.11/dist-packages (from yfinance) (4.3.8)\n",
            "Requirement already satisfied: pytz>=2022.5 in /usr/local/lib/python3.11/dist-packages (from yfinance) (2025.2)\n",
            "Requirement already satisfied: frozendict>=2.3.4 in /usr/local/lib/python3.11/dist-packages (from yfinance) (2.4.6)\n",
            "Requirement already satisfied: peewee>=3.16.2 in /usr/local/lib/python3.11/dist-packages (from yfinance) (3.18.2)\n",
            "Requirement already satisfied: beautifulsoup4>=4.11.1 in /usr/local/lib/python3.11/dist-packages (from yfinance) (4.13.4)\n",
            "Requirement already satisfied: curl_cffi>=0.7 in /usr/local/lib/python3.11/dist-packages (from yfinance) (0.12.0)\n",
            "Requirement already satisfied: protobuf>=3.19.0 in /usr/local/lib/python3.11/dist-packages (from yfinance) (5.29.5)\n",
            "Requirement already satisfied: websockets>=13.0 in /usr/local/lib/python3.11/dist-packages (from yfinance) (15.0.1)\n",
            "Requirement already satisfied: python-dateutil>=2.8.2 in /usr/local/lib/python3.11/dist-packages (from pandas) (2.9.0.post0)\n",
            "Requirement already satisfied: tzdata>=2022.7 in /usr/local/lib/python3.11/dist-packages (from pandas) (2025.2)\n",
            "Requirement already satisfied: scipy>=1.6.0 in /usr/local/lib/python3.11/dist-packages (from scikit-learn) (1.16.0)\n",
            "Requirement already satisfied: joblib>=1.2.0 in /usr/local/lib/python3.11/dist-packages (from scikit-learn) (1.5.1)\n",
            "Requirement already satisfied: threadpoolctl>=3.1.0 in /usr/local/lib/python3.11/dist-packages (from scikit-learn) (3.6.0)\n",
            "Requirement already satisfied: absl-py>=1.0.0 in /usr/local/lib/python3.11/dist-packages (from tensorflow) (1.4.0)\n",
            "Requirement already satisfied: astunparse>=1.6.0 in /usr/local/lib/python3.11/dist-packages (from tensorflow) (1.6.3)\n",
            "Requirement already satisfied: flatbuffers>=24.3.25 in /usr/local/lib/python3.11/dist-packages (from tensorflow) (25.2.10)\n",
            "Requirement already satisfied: gast!=0.5.0,!=0.5.1,!=0.5.2,>=0.2.1 in /usr/local/lib/python3.11/dist-packages (from tensorflow) (0.6.0)\n",
            "Requirement already satisfied: google-pasta>=0.1.1 in /usr/local/lib/python3.11/dist-packages (from tensorflow) (0.2.0)\n",
            "Requirement already satisfied: libclang>=13.0.0 in /usr/local/lib/python3.11/dist-packages (from tensorflow) (18.1.1)\n",
            "Requirement already satisfied: opt-einsum>=2.3.2 in /usr/local/lib/python3.11/dist-packages (from tensorflow) (3.4.0)\n",
            "Requirement already satisfied: packaging in /usr/local/lib/python3.11/dist-packages (from tensorflow) (25.0)\n",
            "Requirement already satisfied: setuptools in /usr/local/lib/python3.11/dist-packages (from tensorflow) (75.2.0)\n",
            "Requirement already satisfied: six>=1.12.0 in /usr/local/lib/python3.11/dist-packages (from tensorflow) (1.17.0)\n",
            "Requirement already satisfied: termcolor>=1.1.0 in /usr/local/lib/python3.11/dist-packages (from tensorflow) (3.1.0)\n",
            "Requirement already satisfied: typing-extensions>=3.6.6 in /usr/local/lib/python3.11/dist-packages (from tensorflow) (4.14.1)\n",
            "Requirement already satisfied: wrapt>=1.11.0 in /usr/local/lib/python3.11/dist-packages (from tensorflow) (1.17.2)\n",
            "Requirement already satisfied: grpcio<2.0,>=1.24.3 in /usr/local/lib/python3.11/dist-packages (from tensorflow) (1.74.0)\n",
            "Requirement already satisfied: tensorboard<2.19,>=2.18 in /usr/local/lib/python3.11/dist-packages (from tensorflow) (2.18.0)\n",
            "Requirement already satisfied: keras>=3.5.0 in /usr/local/lib/python3.11/dist-packages (from tensorflow) (3.8.0)\n",
            "Requirement already satisfied: h5py>=3.11.0 in /usr/local/lib/python3.11/dist-packages (from tensorflow) (3.14.0)\n",
            "Requirement already satisfied: ml-dtypes<0.5.0,>=0.4.0 in /usr/local/lib/python3.11/dist-packages (from tensorflow) (0.4.1)\n",
            "Requirement already satisfied: tensorflow-io-gcs-filesystem>=0.23.1 in /usr/local/lib/python3.11/dist-packages (from tensorflow) (0.37.1)\n",
            "Requirement already satisfied: contourpy>=1.0.1 in /usr/local/lib/python3.11/dist-packages (from matplotlib) (1.3.2)\n",
            "Requirement already satisfied: cycler>=0.10 in /usr/local/lib/python3.11/dist-packages (from matplotlib) (0.12.1)\n",
            "Requirement already satisfied: fonttools>=4.22.0 in /usr/local/lib/python3.11/dist-packages (from matplotlib) (4.59.0)\n",
            "Requirement already satisfied: kiwisolver>=1.3.1 in /usr/local/lib/python3.11/dist-packages (from matplotlib) (1.4.8)\n",
            "Requirement already satisfied: pillow>=8 in /usr/local/lib/python3.11/dist-packages (from matplotlib) (11.3.0)\n",
            "Requirement already satisfied: pyparsing>=2.3.1 in /usr/local/lib/python3.11/dist-packages (from matplotlib) (3.2.3)\n",
            "Requirement already satisfied: wheel<1.0,>=0.23.0 in /usr/local/lib/python3.11/dist-packages (from astunparse>=1.6.0->tensorflow) (0.45.1)\n",
            "Requirement already satisfied: soupsieve>1.2 in /usr/local/lib/python3.11/dist-packages (from beautifulsoup4>=4.11.1->yfinance) (2.7)\n",
            "Requirement already satisfied: cffi>=1.12.0 in /usr/local/lib/python3.11/dist-packages (from curl_cffi>=0.7->yfinance) (1.17.1)\n",
            "Requirement already satisfied: certifi>=2024.2.2 in /usr/local/lib/python3.11/dist-packages (from curl_cffi>=0.7->yfinance) (2025.7.14)\n",
            "Requirement already satisfied: rich in /usr/local/lib/python3.11/dist-packages (from keras>=3.5.0->tensorflow) (13.9.4)\n",
            "Requirement already satisfied: namex in /usr/local/lib/python3.11/dist-packages (from keras>=3.5.0->tensorflow) (0.1.0)\n",
            "Requirement already satisfied: optree in /usr/local/lib/python3.11/dist-packages (from keras>=3.5.0->tensorflow) (0.16.0)\n",
            "Requirement already satisfied: charset-normalizer<4,>=2 in /usr/local/lib/python3.11/dist-packages (from requests>=2.31->yfinance) (3.4.2)\n",
            "Requirement already satisfied: idna<4,>=2.5 in /usr/local/lib/python3.11/dist-packages (from requests>=2.31->yfinance) (3.10)\n",
            "Requirement already satisfied: urllib3<3,>=1.21.1 in /usr/local/lib/python3.11/dist-packages (from requests>=2.31->yfinance) (2.5.0)\n",
            "Requirement already satisfied: markdown>=2.6.8 in /usr/local/lib/python3.11/dist-packages (from tensorboard<2.19,>=2.18->tensorflow) (3.8.2)\n",
            "Requirement already satisfied: tensorboard-data-server<0.8.0,>=0.7.0 in /usr/local/lib/python3.11/dist-packages (from tensorboard<2.19,>=2.18->tensorflow) (0.7.2)\n",
            "Requirement already satisfied: werkzeug>=1.0.1 in /usr/local/lib/python3.11/dist-packages (from tensorboard<2.19,>=2.18->tensorflow) (3.1.3)\n",
            "Requirement already satisfied: pycparser in /usr/local/lib/python3.11/dist-packages (from cffi>=1.12.0->curl_cffi>=0.7->yfinance) (2.22)\n",
            "Requirement already satisfied: MarkupSafe>=2.1.1 in /usr/local/lib/python3.11/dist-packages (from werkzeug>=1.0.1->tensorboard<2.19,>=2.18->tensorflow) (3.0.2)\n",
            "Requirement already satisfied: markdown-it-py>=2.2.0 in /usr/local/lib/python3.11/dist-packages (from rich->keras>=3.5.0->tensorflow) (3.0.0)\n",
            "Requirement already satisfied: pygments<3.0.0,>=2.13.0 in /usr/local/lib/python3.11/dist-packages (from rich->keras>=3.5.0->tensorflow) (2.19.2)\n",
            "Requirement already satisfied: mdurl~=0.1 in /usr/local/lib/python3.11/dist-packages (from markdown-it-py>=2.2.0->rich->keras>=3.5.0->tensorflow) (0.1.2)\n"
          ]
        }
      ],
      "source": [
        "# Install all necessary libraries for the project\n",
        "!pip install yfinance pandas numpy scikit-learn tensorflow matplotlib"
      ]
    },
    {
      "cell_type": "code",
      "source": [
        "import yfinance as yf\n",
        "import pandas as pd\n",
        "from datetime import datetime\n",
        "import numpy as np # Already needed for data processing\n",
        "\n",
        "# --- 1. Configuration ---\n",
        "STOCK_TICKER = \"AAPL\"  # Apple Inc. Change this to any stock you want!\n",
        "START_DATE = \"2018-01-01\"\n",
        "END_DATE = datetime.now().strftime('%Y-%m-%d') # Current date\n",
        "LOOK_BACK_DAYS = 60 # Number of previous days to use for prediction (sequence length for LSTM)\n",
        "SPLIT_RATIO = 0.8 # 80% of data for training, 20% for testing\n",
        "\n",
        "# --- 1.1. Data Collection ---\n",
        "print(f\"Fetching data for {STOCK_TICKER} from {START_DATE} to {END_DATE}...\")\n",
        "try:\n",
        "    # yfinance.download can return a MultiIndex, especially with auto_adjust=True\n",
        "    df = yf.download(STOCK_TICKER, start=START_DATE, end=END_DATE)\n",
        "\n",
        "    if df.empty:\n",
        "        raise ValueError(\"No data downloaded. Check ticker symbol and date range.\")\n",
        "\n",
        "    print(\"Data fetched successfully.\")\n",
        "    print(\"Original df info:\")\n",
        "    df.info()\n",
        "    print(\"\\nOriginal df head:\")\n",
        "    print(df.head())\n",
        "\n",
        "    # --- Flatten MultiIndex Columns if they exist ---\n",
        "    # This is the key fix for yfinance's multi-level columns\n",
        "    if isinstance(df.columns, pd.MultiIndex):\n",
        "        # Create new column names like 'Close_AAPL', 'Volume_AAPL'\n",
        "        df.columns = ['_'.join(col).strip() if col[1] else col[0] for col in df.columns.values]\n",
        "        print(\"\\nFlattened column names:\")\n",
        "        print(df.columns)\n",
        "\n",
        "    # Now, rename them to simpler names if desired (e.g., 'Close_AAPL' to 'Close')\n",
        "    # This is optional but makes it cleaner\n",
        "    df.rename(columns={\n",
        "        f'Close_{STOCK_TICKER}': 'Close',\n",
        "        f'High_{STOCK_TICKER}': 'High',\n",
        "        f'Low_{STOCK_TICKER}': 'Low',\n",
        "        f'Open_{STOCK_TICKER}': 'Open',\n",
        "        f'Volume_{STOCK_TICKER}': 'Volume'\n",
        "    }, inplace=True)\n",
        "    print(\"\\nRenamed columns for simplicity:\")\n",
        "    print(df.columns)\n",
        "\n",
        "    print(\"\\nFinal df head after column cleanup:\")\n",
        "    print(df.head())\n",
        "\n",
        "except Exception as e:\n",
        "    print(f\"Error fetching data: {e}\")\n",
        "    print(\"Please ensure your ticker symbol is correct and you have an internet connection.\")\n",
        "    print(\"Example valid tickers: 'AAPL', 'GOOGL', 'MSFT', 'RELIANCE.NS'\")\n",
        "    # In Colab, you might still want to exit if data fails, or just print an error and stop.\n",
        "    raise # Re-raise to stop execution if data is not loaded"
      ],
      "metadata": {
        "colab": {
          "base_uri": "https://localhost:8080/"
        },
        "id": "GQ07N7dFMHrA",
        "outputId": "593e81ac-cb20-4bc4-f44e-69c18cfaeb1e"
      },
      "execution_count": 11,
      "outputs": [
        {
          "output_type": "stream",
          "name": "stderr",
          "text": [
            "/tmp/ipython-input-11-4214458585.py:17: FutureWarning: YF.download() has changed argument auto_adjust default to True\n",
            "  df = yf.download(STOCK_TICKER, start=START_DATE, end=END_DATE)\n",
            "\r[*********************100%***********************]  1 of 1 completed"
          ]
        },
        {
          "output_type": "stream",
          "name": "stdout",
          "text": [
            "Fetching data for AAPL from 2018-01-01 to 2025-07-28...\n",
            "Data fetched successfully.\n",
            "Original df info:\n",
            "<class 'pandas.core.frame.DataFrame'>\n",
            "DatetimeIndex: 1901 entries, 2018-01-02 to 2025-07-25\n",
            "Data columns (total 5 columns):\n",
            " #   Column          Non-Null Count  Dtype  \n",
            "---  ------          --------------  -----  \n",
            " 0   (Close, AAPL)   1901 non-null   float64\n",
            " 1   (High, AAPL)    1901 non-null   float64\n",
            " 2   (Low, AAPL)     1901 non-null   float64\n",
            " 3   (Open, AAPL)    1901 non-null   float64\n",
            " 4   (Volume, AAPL)  1901 non-null   int64  \n",
            "dtypes: float64(4), int64(1)\n",
            "memory usage: 89.1 KB\n",
            "\n",
            "Original df head:\n",
            "Price           Close       High        Low       Open     Volume\n",
            "Ticker           AAPL       AAPL       AAPL       AAPL       AAPL\n",
            "Date                                                             \n",
            "2018-01-02  40.426826  40.436216  39.722772  39.933990  102223600\n",
            "2018-01-03  40.419785  40.964255  40.356422  40.490191  118071600\n",
            "2018-01-04  40.607544  40.710806  40.384594  40.492547   89738400\n",
            "2018-01-05  41.069870  41.156702  40.612235  40.703762   94640000\n",
            "2018-01-08  40.917316  41.213018  40.818746  40.917316   82271200\n",
            "\n",
            "Flattened column names:\n",
            "Index(['Close_AAPL', 'High_AAPL', 'Low_AAPL', 'Open_AAPL', 'Volume_AAPL'], dtype='object')\n",
            "\n",
            "Renamed columns for simplicity:\n",
            "Index(['Close', 'High', 'Low', 'Open', 'Volume'], dtype='object')\n",
            "\n",
            "Final df head after column cleanup:\n",
            "                Close       High        Low       Open     Volume\n",
            "Date                                                             \n",
            "2018-01-02  40.426826  40.436216  39.722772  39.933990  102223600\n",
            "2018-01-03  40.419785  40.964255  40.356422  40.490191  118071600\n",
            "2018-01-04  40.607544  40.710806  40.384594  40.492547   89738400\n",
            "2018-01-05  41.069870  41.156702  40.612235  40.703762   94640000\n",
            "2018-01-08  40.917316  41.213018  40.818746  40.917316   82271200\n"
          ]
        },
        {
          "output_type": "stream",
          "name": "stderr",
          "text": [
            "\n"
          ]
        }
      ]
    },
    {
      "cell_type": "code",
      "source": [
        "import pandas_ta as ta # Ensure this is imported here as well for clarity\n",
        "\n",
        "# --- 2. Feature Engineering ---\n",
        "print(\"\\nStarting Feature Engineering...\")\n",
        "\n",
        "# Make a copy of the cleaned df from previous cell\n",
        "df_features = df.copy()\n",
        "\n",
        "# Add SMA (Simple Moving Average)\n",
        "df_features['SMA_10'] = ta.sma(df_features['Close'], length=10)\n",
        "df_features['SMA_20'] = ta.sma(df_features['Close'], length=20)\n",
        "\n",
        "# Add EMA (Exponential Moving Average)\n",
        "df_features['EMA_12'] = ta.ema(df_features['Close'], length=12)\n",
        "df_features['EMA_26'] = ta.ema(df_features['Close'], length=26)\n",
        "\n",
        "# Add RSI (Relative Strength Index)\n",
        "df_features['RSI'] = ta.rsi(df_features['Close'], length=14)\n",
        "\n",
        "# Add MACD (Moving Average Convergence Divergence)\n",
        "# pandas_ta.macd returns a DataFrame with its own column names like MACD_12_26_9, MACDh_12_26_9, MACDs_12_26_9\n",
        "macd = ta.macd(df_features['Close'])\n",
        "if macd is not None and not macd.empty: # Check if it's not None AND not empty\n",
        "    df_features = df_features.join(macd)\n",
        "    print(\"\\nMACD columns added.\")\n",
        "else:\n",
        "    print(\"MACD could not be calculated or returned empty. Skipping MACD join.\")\n",
        "\n",
        "# Add Bollinger Bands\n",
        "# pandas_ta.bbands returns a DataFrame with its own column names like BBL_5_2.0, BBM_5_2.0, BBU_5_2.0\n",
        "bbands = ta.bbands(df_features['Close'])\n",
        "if bbands is not None and not bbands.empty: # Check if it's not None AND not empty\n",
        "    df_features = df_features.join(bbands)\n",
        "    print(\"Bollinger Bands columns added.\")\n",
        "else:\n",
        "    print(\"Bollinger Bands could not be calculated or returned empty. Skipping BBANDS join.\")\n",
        "\n",
        "\n",
        "# Important: Drop NaN values that appear at the beginning due to moving averages\n",
        "# These NaNs occur because there aren't enough preceding days to calculate the average\n",
        "initial_rows_before_dropna = len(df_features)\n",
        "df_features.dropna(inplace=True)\n",
        "rows_dropped = initial_rows_before_dropna - len(df_features)\n",
        "print(f\"\\nDropped {rows_dropped} rows containing NaN values due to initial NaNs from indicators.\")\n",
        "\n",
        "\n",
        "print(\"\\nDataFrame with ALL new technical indicators:\")\n",
        "print(df_features.head())\n",
        "print(f\"New shape after adding features and dropping NaNs: {df_features.shape}\")\n",
        "\n",
        "# --- 2.1. Define Features for the Model ---\n",
        "# Print all columns to help you decide which ones to use as features\n",
        "print(\"\\nAvailable columns in df_features after all operations:\")\n",
        "print(df_features.columns)\n",
        "\n",
        "# Define the list of features you want to use for your model.\n",
        "# Ensure these names match the actual column names in your df_features.\n",
        "# Since we flattened and renamed, they should be simple strings now.\n",
        "features_to_use = [\n",
        "    'Close',\n",
        "    'Volume',\n",
        "    'SMA_10',\n",
        "    'SMA_20',\n",
        "    'EMA_12',\n",
        "    'EMA_26',\n",
        "    'RSI',\n",
        "    'MACD_12_26_9', # Default MACD column name by pandas_ta\n",
        "    'MACDh_12_26_9', # Default MACD Histogram column name\n",
        "    'MACDs_12_26_9', # Default MACD Signal column name\n",
        "    'BBL_5_2.0',     # Default Bollinger Band Lower column name\n",
        "    'BBM_5_2.0',     # Default Bollinger Band Middle column name\n",
        "    'BBU_5_2.0'      # Default Bollinger Band Upper column name\n",
        "]\n",
        "\n",
        "# Select the features and convert to NumPy array for scaling\n",
        "# Ensure all columns in 'features_to_use' actually exist in 'df_features'\n",
        "try:\n",
        "    data = df_features[features_to_use].values\n",
        "    print(f\"\\n'data' array for scaling now has shape: {data.shape}\")\n",
        "except KeyError as e:\n",
        "    print(f\"Error: One or more columns in 'features_to_use' not found: {e}\")\n",
        "    print(\"Please check the 'Available columns in df_features' output and update 'features_to_use' list.\")\n",
        "    raise # Stop execution if columns are missing\n",
        "\n",
        "# --- 2.2. Scaling Data (from previous Step 2) ---\n",
        "from sklearn.preprocessing import MinMaxScaler\n",
        "scaler = MinMaxScaler(feature_range=(0, 1))\n",
        "scaled_data = scaler.fit_transform(data)\n",
        "print(f\"Data scaled. Min value: {np.min(scaled_data):.2f}, Max value: {np.max(scaled_data):.2f}\")\n",
        "\n",
        "# --- 2.3. Split Data into Training and Testing Sets (from previous Step 2) ---\n",
        "train_size = int(len(scaled_data) * SPLIT_RATIO)\n",
        "train_data = scaled_data[0:train_size, :]\n",
        "test_data = scaled_data[train_size - LOOK_BACK_DAYS:, :] # Include some overlap for testing sequences\n",
        "\n",
        "print(f\"Train data size: {len(train_data)} samples\")\n",
        "print(f\"Test data size: {len(test_data)} samples (including look-back for sequences)\")\n",
        "\n",
        "# --- 2.4. Create Sequences for LSTM (from previous Step 2) ---\n",
        "def create_sequences(dataset, look_back, num_features): # Added num_features argument\n",
        "    X, Y = [], []\n",
        "    for i in range(look_back, len(dataset)):\n",
        "        X.append(dataset[i-look_back:i, :]) # Take all features\n",
        "        Y.append(dataset[i, 0]) # Predict only the 'Close' price (first feature)\n",
        "    return np.array(X), np.array(Y)\n",
        "\n",
        "# Get the number of features from your 'data' array\n",
        "num_features_in_data = data.shape[1]\n",
        "\n",
        "X_train, y_train = create_sequences(train_data, LOOK_BACK_DAYS, num_features_in_data)\n",
        "X_test, y_test = create_sequences(test_data, LOOK_BACK_DAYS, num_features_in_data)\n",
        "\n",
        "# Reshape input to be [samples, time steps, features]\n",
        "# This line is now correct as 'create_sequences' already handles the 3D shape\n",
        "# X_train = np.reshape(X_train, (X_train.shape[0], X_train.shape[1], num_features_in_data)) # No need to reshape here\n",
        "# X_test = np.reshape(X_test, (X_test.shape[0], X_test.shape[1], num_features_in_data)) # No need to reshape here\n",
        "\n",
        "print(f\"\\nShapes of prepared data:\")\n",
        "print(f\"X_train shape (input sequences for training): {X_train.shape}\")\n",
        "print(f\"y_train shape (target prices for training): {y_train.shape}\")\n",
        "print(f\"X_test shape (input sequences for testing): {X_test.shape}\")\n",
        "print(f\"y_test shape (target prices for testing): {y_test.shape}\")\n",
        "\n",
        "print(\"Data Preprocessing complete!\")"
      ],
      "metadata": {
        "colab": {
          "base_uri": "https://localhost:8080/"
        },
        "id": "VVH7AYLdMV7u",
        "outputId": "a6f50750-3544-414e-d8c4-1c09e8b6cfcf"
      },
      "execution_count": 12,
      "outputs": [
        {
          "output_type": "stream",
          "name": "stdout",
          "text": [
            "\n",
            "Starting Feature Engineering...\n",
            "\n",
            "MACD columns added.\n",
            "Bollinger Bands columns added.\n",
            "\n",
            "Dropped 33 rows containing NaN values due to initial NaNs from indicators.\n",
            "\n",
            "DataFrame with ALL new technical indicators:\n",
            "                Close       High        Low       Open     Volume     SMA_10  \\\n",
            "Date                                                                           \n",
            "2018-02-20  40.495041  41.062935  40.393713  40.542169  135722000  38.736683   \n",
            "2018-02-21  40.311237  41.029942  40.297096  40.725966  149886400  38.941739   \n",
            "2018-02-22  40.648205  40.989885  40.462049  40.483256  123967600  39.262395   \n",
            "2018-02-23  41.355129  41.390474  40.893270  40.923904  135249600  39.756771   \n",
            "2018-02-26  42.172813  42.271783  41.522443  41.555433  152648800  40.288381   \n",
            "\n",
            "               SMA_20     EMA_12     EMA_26        RSI  MACD_12_26_9  \\\n",
            "Date                                                                   \n",
            "2018-02-20  39.093727  39.336674  39.786860  56.689641     -0.450186   \n",
            "2018-02-21  39.031858  39.486607  39.825703  55.311631     -0.339096   \n",
            "2018-02-22  39.019928  39.665314  39.886629  57.358094     -0.221315   \n",
            "2018-02-23  39.079837  39.925286  39.995406  61.356237     -0.070121   \n",
            "2018-02-26  39.175937  40.271059  40.156696  65.397579      0.114363   \n",
            "\n",
            "            MACDh_12_26_9  MACDs_12_26_9  BBL_5_2.0  BBM_5_2.0  BBU_5_2.0  \\\n",
            "Date                                                                        \n",
            "2018-02-20       0.652789      -1.102975  38.419632  40.011031  41.602431   \n",
            "2018-02-21       0.611103      -0.950199  39.390163  40.328204  41.266246   \n",
            "2018-02-22       0.583108      -0.804422  40.260121  40.569972  40.879823   \n",
            "2018-02-23       0.587441      -0.657562  39.978899  40.688264  41.397628   \n",
            "2018-02-26       0.617540      -0.503177  39.623988  40.996485  42.368982   \n",
            "\n",
            "            BBB_5_2.0  BBP_5_2.0  \n",
            "Date                              \n",
            "2018-02-20   7.954805   0.652070  \n",
            "2018-02-21   4.652037   0.490956  \n",
            "2018-02-22   1.527489   0.626242  \n",
            "2018-02-23   3.486825   0.970045  \n",
            "2018-02-26   6.695680   0.928536  \n",
            "New shape after adding features and dropping NaNs: (1868, 18)\n",
            "\n",
            "Available columns in df_features after all operations:\n",
            "Index(['Close', 'High', 'Low', 'Open', 'Volume', 'SMA_10', 'SMA_20', 'EMA_12',\n",
            "       'EMA_26', 'RSI', 'MACD_12_26_9', 'MACDh_12_26_9', 'MACDs_12_26_9',\n",
            "       'BBL_5_2.0', 'BBM_5_2.0', 'BBU_5_2.0', 'BBB_5_2.0', 'BBP_5_2.0'],\n",
            "      dtype='object')\n",
            "\n",
            "'data' array for scaling now has shape: (1868, 13)\n",
            "Data scaled. Min value: 0.00, Max value: 1.00\n",
            "Train data size: 1494 samples\n",
            "Test data size: 434 samples (including look-back for sequences)\n",
            "\n",
            "Shapes of prepared data:\n",
            "X_train shape (input sequences for training): (1434, 60, 13)\n",
            "y_train shape (target prices for training): (1434,)\n",
            "X_test shape (input sequences for testing): (374, 60, 13)\n",
            "y_test shape (target prices for testing): (374,)\n",
            "Data Preprocessing complete!\n"
          ]
        }
      ]
    },
    {
      "cell_type": "code",
      "source": [
        "from tensorflow.keras.models import Sequential\n",
        "from tensorflow.keras.layers import LSTM, Dense, Dropout\n",
        "\n",
        "# Get the number of features from the preprocessed data's shape\n",
        "# Assuming X_train's last dimension is the number of features\n",
        "num_features_for_lstm = X_train.shape[2]\n",
        "\n",
        "# --- 3. Model Building (LSTM) ---\n",
        "print(\"\\nBuilding LSTM model...\")\n",
        "\n",
        "model = Sequential()\n",
        "model.add(LSTM(units=50, return_sequences=True, input_shape=(LOOK_BACK_DAYS, num_features_for_lstm))) # UPDATED INPUT SHAPE\n",
        "model.add(Dropout(0.2))\n",
        "model.add(LSTM(units=50, return_sequences=False))\n",
        "model.add(Dropout(0.2))\n",
        "model.add(Dense(units=1))\n",
        "\n",
        "model.compile(optimizer='adam', loss='mean_squared_error')\n",
        "model.summary()\n",
        "\n",
        "# ... (rest of your model training code) ..."
      ],
      "metadata": {
        "colab": {
          "base_uri": "https://localhost:8080/",
          "height": 378
        },
        "id": "ByoqzXu-MbQD",
        "outputId": "fe15b295-e1c2-4496-b2cd-e7c49418f4d3"
      },
      "execution_count": 13,
      "outputs": [
        {
          "output_type": "stream",
          "name": "stdout",
          "text": [
            "\n",
            "Building LSTM model...\n"
          ]
        },
        {
          "output_type": "stream",
          "name": "stderr",
          "text": [
            "/usr/local/lib/python3.11/dist-packages/keras/src/layers/rnn/rnn.py:200: UserWarning: Do not pass an `input_shape`/`input_dim` argument to a layer. When using Sequential models, prefer using an `Input(shape)` object as the first layer in the model instead.\n",
            "  super().__init__(**kwargs)\n"
          ]
        },
        {
          "output_type": "display_data",
          "data": {
            "text/plain": [
              "\u001b[1mModel: \"sequential_1\"\u001b[0m\n"
            ],
            "text/html": [
              "<pre style=\"white-space:pre;overflow-x:auto;line-height:normal;font-family:Menlo,'DejaVu Sans Mono',consolas,'Courier New',monospace\"><span style=\"font-weight: bold\">Model: \"sequential_1\"</span>\n",
              "</pre>\n"
            ]
          },
          "metadata": {}
        },
        {
          "output_type": "display_data",
          "data": {
            "text/plain": [
              "┏━━━━━━━━━━━━━━━━━━━━━━━━━━━━━━━━━┳━━━━━━━━━━━━━━━━━━━━━━━━┳━━━━━━━━━━━━━━━┓\n",
              "┃\u001b[1m \u001b[0m\u001b[1mLayer (type)                   \u001b[0m\u001b[1m \u001b[0m┃\u001b[1m \u001b[0m\u001b[1mOutput Shape          \u001b[0m\u001b[1m \u001b[0m┃\u001b[1m \u001b[0m\u001b[1m      Param #\u001b[0m\u001b[1m \u001b[0m┃\n",
              "┡━━━━━━━━━━━━━━━━━━━━━━━━━━━━━━━━━╇━━━━━━━━━━━━━━━━━━━━━━━━╇━━━━━━━━━━━━━━━┩\n",
              "│ lstm_2 (\u001b[38;5;33mLSTM\u001b[0m)                   │ (\u001b[38;5;45mNone\u001b[0m, \u001b[38;5;34m60\u001b[0m, \u001b[38;5;34m50\u001b[0m)         │        \u001b[38;5;34m12,800\u001b[0m │\n",
              "├─────────────────────────────────┼────────────────────────┼───────────────┤\n",
              "│ dropout_2 (\u001b[38;5;33mDropout\u001b[0m)             │ (\u001b[38;5;45mNone\u001b[0m, \u001b[38;5;34m60\u001b[0m, \u001b[38;5;34m50\u001b[0m)         │             \u001b[38;5;34m0\u001b[0m │\n",
              "├─────────────────────────────────┼────────────────────────┼───────────────┤\n",
              "│ lstm_3 (\u001b[38;5;33mLSTM\u001b[0m)                   │ (\u001b[38;5;45mNone\u001b[0m, \u001b[38;5;34m50\u001b[0m)             │        \u001b[38;5;34m20,200\u001b[0m │\n",
              "├─────────────────────────────────┼────────────────────────┼───────────────┤\n",
              "│ dropout_3 (\u001b[38;5;33mDropout\u001b[0m)             │ (\u001b[38;5;45mNone\u001b[0m, \u001b[38;5;34m50\u001b[0m)             │             \u001b[38;5;34m0\u001b[0m │\n",
              "├─────────────────────────────────┼────────────────────────┼───────────────┤\n",
              "│ dense_1 (\u001b[38;5;33mDense\u001b[0m)                 │ (\u001b[38;5;45mNone\u001b[0m, \u001b[38;5;34m1\u001b[0m)              │            \u001b[38;5;34m51\u001b[0m │\n",
              "└─────────────────────────────────┴────────────────────────┴───────────────┘\n"
            ],
            "text/html": [
              "<pre style=\"white-space:pre;overflow-x:auto;line-height:normal;font-family:Menlo,'DejaVu Sans Mono',consolas,'Courier New',monospace\">┏━━━━━━━━━━━━━━━━━━━━━━━━━━━━━━━━━┳━━━━━━━━━━━━━━━━━━━━━━━━┳━━━━━━━━━━━━━━━┓\n",
              "┃<span style=\"font-weight: bold\"> Layer (type)                    </span>┃<span style=\"font-weight: bold\"> Output Shape           </span>┃<span style=\"font-weight: bold\">       Param # </span>┃\n",
              "┡━━━━━━━━━━━━━━━━━━━━━━━━━━━━━━━━━╇━━━━━━━━━━━━━━━━━━━━━━━━╇━━━━━━━━━━━━━━━┩\n",
              "│ lstm_2 (<span style=\"color: #0087ff; text-decoration-color: #0087ff\">LSTM</span>)                   │ (<span style=\"color: #00d7ff; text-decoration-color: #00d7ff\">None</span>, <span style=\"color: #00af00; text-decoration-color: #00af00\">60</span>, <span style=\"color: #00af00; text-decoration-color: #00af00\">50</span>)         │        <span style=\"color: #00af00; text-decoration-color: #00af00\">12,800</span> │\n",
              "├─────────────────────────────────┼────────────────────────┼───────────────┤\n",
              "│ dropout_2 (<span style=\"color: #0087ff; text-decoration-color: #0087ff\">Dropout</span>)             │ (<span style=\"color: #00d7ff; text-decoration-color: #00d7ff\">None</span>, <span style=\"color: #00af00; text-decoration-color: #00af00\">60</span>, <span style=\"color: #00af00; text-decoration-color: #00af00\">50</span>)         │             <span style=\"color: #00af00; text-decoration-color: #00af00\">0</span> │\n",
              "├─────────────────────────────────┼────────────────────────┼───────────────┤\n",
              "│ lstm_3 (<span style=\"color: #0087ff; text-decoration-color: #0087ff\">LSTM</span>)                   │ (<span style=\"color: #00d7ff; text-decoration-color: #00d7ff\">None</span>, <span style=\"color: #00af00; text-decoration-color: #00af00\">50</span>)             │        <span style=\"color: #00af00; text-decoration-color: #00af00\">20,200</span> │\n",
              "├─────────────────────────────────┼────────────────────────┼───────────────┤\n",
              "│ dropout_3 (<span style=\"color: #0087ff; text-decoration-color: #0087ff\">Dropout</span>)             │ (<span style=\"color: #00d7ff; text-decoration-color: #00d7ff\">None</span>, <span style=\"color: #00af00; text-decoration-color: #00af00\">50</span>)             │             <span style=\"color: #00af00; text-decoration-color: #00af00\">0</span> │\n",
              "├─────────────────────────────────┼────────────────────────┼───────────────┤\n",
              "│ dense_1 (<span style=\"color: #0087ff; text-decoration-color: #0087ff\">Dense</span>)                 │ (<span style=\"color: #00d7ff; text-decoration-color: #00d7ff\">None</span>, <span style=\"color: #00af00; text-decoration-color: #00af00\">1</span>)              │            <span style=\"color: #00af00; text-decoration-color: #00af00\">51</span> │\n",
              "└─────────────────────────────────┴────────────────────────┴───────────────┘\n",
              "</pre>\n"
            ]
          },
          "metadata": {}
        },
        {
          "output_type": "display_data",
          "data": {
            "text/plain": [
              "\u001b[1m Total params: \u001b[0m\u001b[38;5;34m33,051\u001b[0m (129.11 KB)\n"
            ],
            "text/html": [
              "<pre style=\"white-space:pre;overflow-x:auto;line-height:normal;font-family:Menlo,'DejaVu Sans Mono',consolas,'Courier New',monospace\"><span style=\"font-weight: bold\"> Total params: </span><span style=\"color: #00af00; text-decoration-color: #00af00\">33,051</span> (129.11 KB)\n",
              "</pre>\n"
            ]
          },
          "metadata": {}
        },
        {
          "output_type": "display_data",
          "data": {
            "text/plain": [
              "\u001b[1m Trainable params: \u001b[0m\u001b[38;5;34m33,051\u001b[0m (129.11 KB)\n"
            ],
            "text/html": [
              "<pre style=\"white-space:pre;overflow-x:auto;line-height:normal;font-family:Menlo,'DejaVu Sans Mono',consolas,'Courier New',monospace\"><span style=\"font-weight: bold\"> Trainable params: </span><span style=\"color: #00af00; text-decoration-color: #00af00\">33,051</span> (129.11 KB)\n",
              "</pre>\n"
            ]
          },
          "metadata": {}
        },
        {
          "output_type": "display_data",
          "data": {
            "text/plain": [
              "\u001b[1m Non-trainable params: \u001b[0m\u001b[38;5;34m0\u001b[0m (0.00 B)\n"
            ],
            "text/html": [
              "<pre style=\"white-space:pre;overflow-x:auto;line-height:normal;font-family:Menlo,'DejaVu Sans Mono',consolas,'Courier New',monospace\"><span style=\"font-weight: bold\"> Non-trainable params: </span><span style=\"color: #00af00; text-decoration-color: #00af00\">0</span> (0.00 B)\n",
              "</pre>\n"
            ]
          },
          "metadata": {}
        }
      ]
    },
    {
      "cell_type": "code",
      "source": [
        "# --- 5. Model Evaluation ---\n",
        "print(\"\\nEvaluating model performance...\")\n",
        "\n",
        "# Generate predictions on the test set\n",
        "predictions = model.predict(X_test)\n",
        "\n",
        "# Inverse transform the predictions and actual values to original scale\n",
        "# Remember: 'scaler' was fit on the original 'Close' price data when creating 'scaled_data'\n",
        "# We need to create a dummy array with the correct number of features for inverse_transform\n",
        "# The scaler was fitted on 'data' which has 'num_features_in_data' columns.\n",
        "# So, we create a zero-filled array of the correct shape and then put our predictions/y_test into the first column.\n",
        "\n",
        "# For predictions:\n",
        "dummy_predictions_array = np.zeros((predictions.shape[0], num_features_in_data))\n",
        "dummy_predictions_array[:, 0] = predictions.flatten() # Put predictions into the 'Close' price slot\n",
        "predictions_original_scale = scaler.inverse_transform(dummy_predictions_array)[:, 0] # Inverse transform and take only 'Close'\n",
        "\n",
        "# For y_test:\n",
        "dummy_y_test_array = np.zeros((y_test.shape[0], num_features_in_data))\n",
        "dummy_y_test_array[:, 0] = y_test.flatten() # Put y_test into the 'Close' price slot\n",
        "y_test_original_scale = scaler.inverse_transform(dummy_y_test_array)[:, 0] # Inverse transform and take only 'Close'\n",
        "\n",
        "\n",
        "# --- 5.1. Calculate Performance Metrics ---\n",
        "rmse = np.sqrt(np.mean((predictions_original_scale - y_test_original_scale)**2))\n",
        "mae = np.mean(np.abs(predictions_original_scale - y_test_original_scale))\n",
        "\n",
        "print(f\"Root Mean Squared Error (RMSE): ${rmse:.2f}\")\n",
        "print(f\"Mean Absolute Error (MAE): ${mae:.2f}\")\n",
        "\n",
        "# --- 5.2. Visualize Predictions vs. Actual Prices ---\n",
        "print(\"\\nPlotting predictions vs. actual prices...\")\n",
        "\n",
        "# Create an index for the test data for plotting\n",
        "# Ensure 'df_features' is the DataFrame with all features and dropped NaNs\n",
        "# The test data starts from the point where the training data ends, plus the LOOK_BACK_DAYS offset\n",
        "# It's better to use the index from df_features directly after it was cleaned and had NaNs dropped.\n",
        "# We need to find the correct starting index for the test_dates.\n",
        "# X_test.shape[0] is the number of predictions we made.\n",
        "# df_features.index will be the dates of the data after dropping NaNs.\n",
        "test_dates = df_features.index[-len(y_test_original_scale):]\n",
        "\n",
        "\n",
        "plt.figure(figsize=(16, 8))\n",
        "plt.plot(test_dates, y_test_original_scale, color='blue', label='Actual Stock Price')\n",
        "plt.plot(test_dates, predictions_original_scale, color='red', linestyle='--', label='Predicted Stock Price')\n",
        "plt.title(f'{STOCK_TICKER} Stock Price Prediction (Test Data)')\n",
        "plt.xlabel('Date')\n",
        "plt.ylabel('Stock Price ($)')\n",
        "plt.legend()\n",
        "plt.grid(True)\n",
        "plt.show()\n",
        "\n",
        "print(\"Evaluation and Visualization Complete!\")\n",
        "print(\"\\nNext steps: Interpret your results and consider how to improve your model for your resume!\")"
      ],
      "metadata": {
        "colab": {
          "base_uri": "https://localhost:8080/",
          "height": 912
        },
        "id": "Edt5RNVBMfmg",
        "outputId": "e9e00f23-03f5-4862-a4d5-8cc25a3e6396"
      },
      "execution_count": 14,
      "outputs": [
        {
          "output_type": "stream",
          "name": "stdout",
          "text": [
            "\n",
            "Evaluating model performance...\n",
            "\u001b[1m12/12\u001b[0m \u001b[32m━━━━━━━━━━━━━━━━━━━━\u001b[0m\u001b[37m\u001b[0m \u001b[1m0s\u001b[0m 19ms/step\n",
            "Root Mean Squared Error (RMSE): $196.72\n",
            "Mean Absolute Error (MAE): $194.81\n",
            "\n",
            "Plotting predictions vs. actual prices...\n"
          ]
        },
        {
          "output_type": "display_data",
          "data": {
            "text/plain": [
              "<Figure size 1600x800 with 1 Axes>"
            ],
            "image/png": "[encoded data removed]"
          },
          "metadata": {}
        },
        {
          "output_type": "stream",
          "name": "stdout",
          "text": [
            "Evaluation and Visualization Complete!\n",
            "\n",
            "Next steps: Interpret your results and consider how to improve your model for your resume!\n"
          ]
        }
      ]
    },
    {
      "cell_type": "code",
      "source": [
        "import os\n",
        "import joblib\n",
        "\n",
        "# Create a directory to save the model and scaler\n",
        "model_save_dir = 'stock_prediction_artifacts'\n",
        "os.makedirs(model_save_dir, exist_ok=True)\n",
        "\n",
        "# Save the trained Keras model\n",
        "# The '.keras' format is the recommended way to save TensorFlow Keras models\n",
        "model.save(os.path.join(model_save_dir, 'my_lstm_stock_predictor.keras'))\n",
        "print(f\"Model saved to {model_save_dir}/my_lstm_stock_predictor.keras\")\n",
        "\n",
        "# Save the MinMaxScaler (which was fitted on all your features)\n",
        "joblib.dump(scaler, os.path.join(model_save_dir, 'minmax_scaler_all_features.pkl'))\n",
        "print(f\"Scaler saved to {model_save_dir}/minmax_scaler_all_features.pkl\")\n",
        "\n",
        "# --- Optional: Verify loading ---\n",
        "from tensorflow.keras.models import load_model\n",
        "loaded_model = load_model(os.path.join(model_save_dir, 'my_lstm_stock_predictor.keras'))\n",
        "loaded_scaler = joblib.load(os.path.join(model_save_dir, 'minmax_scaler_all_features.pkl'))\n",
        "\n",
        "print(\"\\nModel and Scaler successfully loaded back for verification.\")\n",
        "# You can optionally make a test prediction with loaded_model and loaded_scaler\n",
        "# to ensure they work as expected."
      ],
      "metadata": {
        "colab": {
          "base_uri": "https://localhost:8080/"
        },
        "id": "9kFZN_UrO4ox",
        "outputId": "7ac4d6d9-3f19-441b-b5df-b01dacf28640"
      },
      "execution_count": 15,
      "outputs": [
        {
          "output_type": "stream",
          "name": "stdout",
          "text": [
            "Model saved to stock_prediction_artifacts/my_lstm_stock_predictor.keras\n",
            "Scaler saved to stock_prediction_artifacts/minmax_scaler_all_features.pkl\n",
            "\n",
            "Model and Scaler successfully loaded back for verification.\n"
          ]
        },
        {
          "output_type": "stream",
          "name": "stderr",
          "text": [
            "/usr/local/lib/python3.11/dist-packages/keras/src/saving/saving_lib.py:757: UserWarning: Skipping variable loading for optimizer 'adam', because it has 18 variables whereas the saved optimizer has 2 variables. \n",
            "  saveable.load_own_variables(weights_store.get(inner_path))\n"
          ]
        }
      ]
    },
    {
      "cell_type": "code",
      "source": [],
      "metadata": {
        "id": "OMrMNPf0Rzyr"
      },
      "execution_count": null,
      "outputs": []
    }
  ]
}